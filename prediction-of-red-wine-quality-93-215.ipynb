{
 "cells": [
  {
   "metadata": {
    "_uuid": "a711b7d611a7fb168d5d6ba6afdca1ffe26eb3f5"
   },
   "cell_type": "markdown",
   "source": [
    "# Prediction of Red Wine Quality(93.215%)\n",
    "\n",
    "Wine classification is a difficult task since taste is the least understood of the human senses. A good wine quality prediction can be very useful in the certification phase, since currently the sensory analysis is performed by human tasters, being clearly a subjective approach. \n",
    "\n",
    "An automatic predictive system can be integrated into a decision support system, helping the speed and quality of the oenologist performance. Furthermore, a feature selection process can help to analyze the impact of the analytical tests. If it is concluded that several input variables are highly relevant to predict the wine quality, since in the production process some variables can be controlled, this information can be used to improve the wine quality.\n",
    "\n",
    "(This introduction is extracted from \"Modeling Wine Preferences from Physicochemical Properties using Fuzzy Techniques\".)\n",
    "\n",
    "It is not the only intriguing topic in wine industry. For example, vehicle riding and handling test is also conducted by human so it is hard to find correlation between specification and performance although some bias sensor which helps to evaluate performance objectively works well during test. Plus, there are lots of external variables. If we can build its predictive model, we can research and develop new products efficiently. In other words, it allows to reduce cost and develop time and even improve performance."
   ]
  },
  {
   "metadata": {
    "_uuid": "8f2839f25d086af736a60e9eeb907d3b93b6e0e5",
    "_cell_guid": "b1076dfc-b9ad-4769-8c92-a6c4dae69d19",
    "trusted": true,
    "_kg_hide-input": false,
    "pycharm": {
     "is_executing": false
    }
   },
   "cell_type": "code",
   "source": [
    "import numpy as np\n",
    "import pandas as pd\n",
    "import matplotlib.pyplot as plt\n",
    "import seaborn as sns\n",
    "\n",
    "import warnings\n",
    "warnings.filterwarnings('ignore')\n",
    "import os\n",
    "print(os.listdir(\"./data\"))\n",
    "\n",
    "# Any results you write to the current directory are saved as output."
   ],
   "execution_count": null,
   "outputs": []
  },
  {
   "metadata": {
    "_cell_guid": "79c7e3d0-c299-4dcb-8224-4455121ee9b0",
    "_uuid": "d629ff2d2480ee46fbb7e2d37f6b5fab8052498a",
    "trusted": true,
    "_kg_hide-input": false,
    "pycharm": {
     "is_executing": false
    }
   },
   "cell_type": "code",
   "source": [
    "df = pd.read_csv('./data/wine_X_train.csv')\n",
    "df.info()"
   ],
   "execution_count": null,
   "outputs": []
  },
  {
   "metadata": {
    "_uuid": "45832b38b804f7bc0d77101ca76001980d65a9e2"
   },
   "cell_type": "markdown",
   "source": "## - Data Analysis\nDefine the grade below\n            \n             1(good) if quality is more than 7 \n            \n             0(not good) if quality is less than 7 "
  },
  {
   "metadata": {
    "_uuid": "7c433c08757f3034950283fa933c1eff2d3d80fd"
   },
   "cell_type": "markdown",
   "source": "### 1. Correlation"
  },
  {
   "metadata": {
    "_kg_hide-input": true,
    "trusted": true,
    "_uuid": "5a88f55fb891f70246b370aed32c352d6824fd7d",
    "pycharm": {
     "is_executing": false
    }
   },
   "cell_type": "code",
   "source": "df['grade'] = 1 # good\ndf.grade[df.quality < 7] = 0 # not good\n\nplt.figure(figsize = (8,8))\nlabels = df.grade.value_counts().index\nplt.pie(df.grade.value_counts(), autopct='%1.1f%%')\nplt.legend(labels, loc=\"best\")\nplt.axis('equal')\nplt.title('Quality Pie Chart')\nplt.show()\nprint('The good quality wines count for ',round(df.grade.value_counts(normalize=True)[1]*100,1),'%.')",
   "execution_count": null,
   "outputs": []
  },
  {
   "metadata": {
    "_kg_hide-input": true,
    "trusted": true,
    "_uuid": "bef92f497a1fb860844a0d7c0c856678a22db24a",
    "pycharm": {
     "is_executing": false
    }
   },
   "cell_type": "code",
   "source": "sns.pairplot(df, hue='grade')\nplt.show()",
   "execution_count": null,
   "outputs": []
  },
  {
   "metadata": {
    "_uuid": "95df4c63bb28be533c06303ae1a958a8e6a546d9"
   },
   "cell_type": "markdown",
   "source": "Each attribute in the two group(grade=0 or grade=1) has the almost same histogram."
  },
  {
   "metadata": {
    "_kg_hide-input": true,
    "trusted": true,
    "_uuid": "1057f95a987eeea0d6ec917ce1fde8cf97a42638",
    "pycharm": {
     "is_executing": false
    }
   },
   "cell_type": "code",
   "source": "mask = np.zeros_like(df.corr(), dtype=np.bool)\nmask[np.triu_indices_from(mask)] = True\n\nplt.subplots(figsize = (12,12))\nsns.heatmap(df.corr(), \n            annot=True,\n            mask = mask,\n            cmap = 'RdBu_r',\n            linewidths=0.1, \n            linecolor='white',\n            vmax = .9,\n            square=True)\nplt.title(\"Correlations Among Features\", y = 1.03,fontsize = 20)\nplt.show()",
   "execution_count": null,
   "outputs": []
  },
  {
   "metadata": {
    "_uuid": "283a730143ecab2ca9ba5b63a9be1d790685d3cb"
   },
   "cell_type": "markdown",
   "source": "Seeing the pairplot and the correlation heatmap, there is no distinguishing correlations to quality."
  },
  {
   "metadata": {
    "_uuid": "2f051a50c44aff1aee5026058c64e9fc8295ea31"
   },
   "cell_type": "markdown",
   "source": "### 2. Average Radar Chart"
  },
  {
   "metadata": {
    "_kg_hide-input": true,
    "trusted": true,
    "_uuid": "97b1d518e9c0005219ce1a13db7b2ba6d1152899",
    "pycharm": {
     "is_executing": false
    }
   },
   "cell_type": "code",
   "source": "good = df[df.grade == 1]\nnotgood = df[df.grade == 0]",
   "execution_count": null,
   "outputs": []
  },
  {
   "metadata": {
    "_kg_hide-input": true,
    "trusted": true,
    "_uuid": "a435745eab8102ad81380257daae7f9157c9f6fd",
    "pycharm": {
     "is_executing": false
    }
   },
   "cell_type": "code",
   "source": "drop_items = ['quality','grade']\ng1 = pd.DataFrame(good.drop(drop_items, axis=1).mean(), columns=['Good']).T\ng2 = pd.DataFrame(notgood.drop(drop_items, axis=1).mean(), columns=['Not Good']).T\ntotal = pd.DataFrame(df.drop(drop_items, axis=1).mean(), columns=['Total Average']).T\ndata = g1.append([g2, total])",
   "execution_count": null,
   "outputs": []
  },
  {
   "metadata": {
    "_kg_hide-input": true,
    "trusted": true,
    "_uuid": "bc1c2202a297e38a780071d89ec347c278990cc3",
    "pycharm": {
     "is_executing": false
    }
   },
   "cell_type": "code",
   "source": "# Set standard\ntemp1 = data.values.reshape((3, 11))\nstandard = data.loc['Total Average'].values.reshape((1, 11))\ntemp = 100* temp1 / standard\ndata_percentage = pd.DataFrame(temp, columns = data.columns.values.tolist())",
   "execution_count": null,
   "outputs": []
  },
  {
   "metadata": {
    "_kg_hide-input": true,
    "trusted": true,
    "_uuid": "3e1ab5b3c586b378a61f9e811b6f789df7fdec29",
    "pycharm": {
     "is_executing": false
    }
   },
   "cell_type": "code",
   "source": "from math import pi\nAttributes =list(data_percentage)\nAttNo = len(Attributes)\n\nvalues = data_percentage.iloc[0].tolist() #\nvalues += values [:1]\n\nangles = [n / float(AttNo) * 2 * pi for n in range(AttNo)]\nangles += angles [:1]\n\nvalues2 = data_percentage.iloc[1].tolist() # \nvalues2 += values2 [:1]\n\nangles2 = [n / float(AttNo) * 2 * pi for n in range(AttNo)]\nangles2 += angles2 [:1]\n\nvalues3 = data_percentage.iloc[2].tolist() # \nvalues3 += values3 [:1]\n\nangles3 = [n / float(AttNo) * 2 * pi for n in range(AttNo)]\nangles3 += angles3 [:1]\n\nplt.figure(figsize=(10,10))\nax = plt.subplot(111, polar=True)\nplt.xticks(angles[:-1],Attributes)\n\n# Good \nax.plot(angles, values, color = 'r')\nax.fill(angles, values, 'red', alpha=0.1)\n\n# Not Good\nax.plot(angles2, values2, color = 'b')\nax.fill(angles2, values2, 'blue', alpha=0.1)\n\n# Total Average\nax.plot(angles3, values3, color = 'black')\nax.fill(angles3, values3, 'black', alpha=0.1)\n\nplt.figtext(0.4,0.82,'Good Quality Average',color='red')\nplt.figtext(0.28,0.48,'Not Good Quality Average',color='blue')\nplt.figtext(0.36,0.23,'Total Average',color='black')\nplt.show()",
   "execution_count": null,
   "outputs": []
  },
  {
   "metadata": {
    "_kg_hide-input": true,
    "trusted": true,
    "_uuid": "1660e87aed8508b42811505580312826cb9c1c42",
    "pycharm": {
     "is_executing": false
    }
   },
   "cell_type": "code",
   "source": "data_percentage[:2].T.plot(kind='bar',figsize=(15,5), color=['red','blue'])\nplt.title('Average of the two groups')\nplt.legend(('Good','Not Good'))\nx = np.linspace(-10,100,10)\ny = 100*np.ones(10)\nplt.plot(x,y,'green')\nplt.show()",
   "execution_count": null,
   "outputs": []
  },
  {
   "metadata": {
    "_kg_hide-input": true,
    "trusted": true,
    "_uuid": "950458b5208bf663d1a58c46497868af258c32e2",
    "pycharm": {
     "is_executing": false
    }
   },
   "cell_type": "code",
   "source": "plt.figure(figsize = (14,10))\nplt.subplots_adjust(hspace = 0.3, wspace = 0.3)\n\nplt.subplot(241) \nsns.kdeplot(df['citric acid'], df['quality'])\nplt.subplot(242)\nsns.kdeplot(df['sulphates'], df['quality'])\nplt.subplot(243)\nsns.kdeplot(df['alcohol'], df['quality'])\nplt.subplot(244)\nsns.kdeplot(df['residual sugar'], df['quality'])\n\nplt.subplot(245)\nsns.kdeplot(df['free sulfur dioxide'], df['quality'])\nplt.subplot(246)\nsns.kdeplot(df['volatile acidity'], df['quality'])\nplt.subplot(247)\nsns.kdeplot(df['total sulfur dioxide'], df['quality'])\nplt.subplot(248)\nsns.kdeplot(df['chlorides'], df['quality'])\nplt.show()",
   "execution_count": null,
   "outputs": []
  },
  {
   "metadata": {
    "_uuid": "2bbd69426dea65c1106a331bec6dff4da65ec36c"
   },
   "cell_type": "markdown",
   "source": "On average, the more wine includes citric acid, sulphates, or alcohol, the wine is better, otherwise the less wine includes free sulfur dioxide, volatile acidity, or total sulfur dioxide, the wine is better."
  },
  {
   "metadata": {
    "_uuid": "71f18914333bb278fc30463d0df2ab7ea4577409"
   },
   "cell_type": "markdown",
   "source": "## - Data Prediction\n\nThe several models are used for the prediction.\n\n    1. Decision Tree\n    2. Random Forest\n    3. KNeighbors\n    4. GaussianNB\n    5. SVC\n    6. XGBoost"
  },
  {
   "metadata": {
    "_kg_hide-input": true,
    "trusted": true,
    "_uuid": "715a7c71322dfa1e316c140b8958e27ba9860b75",
    "pycharm": {
     "is_executing": false
    }
   },
   "cell_type": "code",
   "source": "from sklearn.metrics import mean_squared_error\nfrom sklearn.model_selection import train_test_split\n\nfrom sklearn.ensemble import RandomForestClassifier\nfrom sklearn.tree import DecisionTreeClassifier\nfrom sklearn.neighbors import KNeighborsClassifier\nfrom sklearn.naive_bayes import GaussianNB\nfrom sklearn.svm import SVC\nimport xgboost\nfrom sklearn.metrics import accuracy_score\n\ndf_train_features = df.drop(['quality','grade'], axis =1)\nn = 11\n\nx_train, x_test, y_train, y_test = train_test_split(df_train_features, df['grade'], test_size=0.1, random_state=7)\n\nx_train_mat = x_train.values.reshape((len(x_train), n))\nx_test_mat = x_test.values.reshape((len(x_test), n))\n",
   "execution_count": null,
   "outputs": []
  },
  {
   "metadata": {
    "_kg_hide-input": false,
    "trusted": true,
    "_uuid": "12863f1d23f9350a14d5c5799d104aad535a112b",
    "pycharm": {
     "is_executing": false
    }
   },
   "cell_type": "code",
   "source": "##############################################################################\n# Create Predictive Models\n##############################################################################\nprint('Start Predicting...')\n\ndecision_tree = DecisionTreeClassifier()\ndecision_tree.fit(x_train_mat,y_train)\ntree_pred = decision_tree.predict(x_test_mat)\n\nrf = RandomForestClassifier()\nrf.fit(x_train_mat,y_train)\nrf_pred = rf.predict(x_test_mat)\n\nKN = KNeighborsClassifier()\nKN.fit(x_train_mat,y_train)\nKN_pred = KN.predict(x_test_mat)\n\nGaussian = GaussianNB()\nGaussian.fit(x_train_mat,y_train)\nGaussian_pred = Gaussian.predict(x_test_mat)\n\nsvc = SVC()\nsvc.fit(x_train_mat,y_train)\nsvc_pred = svc.predict(x_test_mat)\n\nxgb = xgboost.XGBClassifier()\nxgb.fit(x_train_mat,y_train)\nxgb_pred = xgb.predict(x_test_mat)\n\nprint('...Complete')",
   "execution_count": null,
   "outputs": []
  },
  {
   "metadata": {
    "trusted": true,
    "_uuid": "32581192acf756fb877bcb67495133f75982027e",
    "pycharm": {
     "is_executing": false
    }
   },
   "cell_type": "code",
   "source": "##############################################################################\n# Obtain Accuracy Scores for the test set\n##############################################################################\nprint('Decision Tree:', accuracy_score(y_test, tree_pred)*100,'%')\nprint('Random Forest:', accuracy_score(y_test, rf_pred)*100,'%')\nprint('KNeighbors:',accuracy_score(y_test, KN_pred)*100,'%')\nprint('GaussianNB:',accuracy_score(y_test, Gaussian_pred)*100,'%')\nprint('SVC:',accuracy_score(y_test, svc_pred)*100,'%')\nprint('XGB:',accuracy_score(y_test, xgb_pred)*100,'%')",
   "execution_count": null,
   "outputs": []
  },
  {
   "metadata": {
    "_uuid": "6f5aa9d7890a834e96ce95244138e259d13fdaaf"
   },
   "cell_type": "markdown",
   "source": "The random forest is selected as a predictive model."
  },
  {
   "metadata": {
    "trusted": true,
    "_uuid": "2cc685f52d0e5c527fc93e08003cd6f4d1a695f6",
    "pycharm": {
     "is_executing": false
    }
   },
   "cell_type": "code",
   "source": "##############################################################################\n# Obtain Accuracy Scores\n# Each classifier has a different random state.\n##############################################################################\nk = [10,20,30,40,50]\nfor i in k:\n    rf_tune = RandomForestClassifier(n_estimators=50, random_state=i)\n    rf_tune.fit(x_train_mat,y_train)\n    y_pred = rf_tune.predict(x_test_mat)\n    print(accuracy_score(y_test, y_pred)*100,'%')",
   "execution_count": null,
   "outputs": []
  },
  {
   "metadata": {
    "trusted": true,
    "_uuid": "bb7a7b1d8b5a3363f5eedc34bbb6de9d3cba4c59",
    "pycharm": {
     "is_executing": false
    }
   },
   "cell_type": "code",
   "source": "##############################################################################\n# Input all train data\n##############################################################################\nx_train_check = df_train_features.values.reshape((len(df_train_features), n))\nx_test_check = df['grade'].values.reshape((len(df['grade']), 1))\n\nk = [10,20,30,40,50]\nfor i in k:\n    rf_tune = RandomForestClassifier(n_estimators=50, random_state=i)\n    rf_tune.fit(x_train_mat,y_train)\n    yy_pred = rf_tune.predict(x_train_check)\n    print(accuracy_score(x_test_check, yy_pred)*100,'%')",
   "execution_count": null,
   "outputs": []
  },
  {
   "metadata": {
    "_uuid": "a95edea01f2e6f6cd168b1196b754b6275832219"
   },
   "cell_type": "markdown",
   "source": "### * Visualization for the predicted values"
  },
  {
   "metadata": {
    "_kg_hide-input": true,
    "trusted": true,
    "_uuid": "522bcd5cf0500e9fbb33ea5f6bf95e955c5d4dae",
    "pycharm": {
     "is_executing": false
    }
   },
   "cell_type": "code",
   "source": "plt.figure(figsize = (20,8))\ndomain = np.linspace(1,100,len(y_pred)) \nplt.plot(domain, rf_pred,'o')\nplt.plot(domain, y_test,'o')\nplt.legend(('Prediction','Actual value'))\nplt.show()",
   "execution_count": null,
   "outputs": []
  },
  {
   "metadata": {
    "_uuid": "0c845b30dc973a8e2a62a4c633ed244b81b3a782"
   },
   "cell_type": "markdown",
   "source": "This is my first notebook about sensory test so the purpose of this notebook is to share useful information and discuss about predicting subjective test, not to deliver any knowledge. Thank you for reading this notebook. "
  },
  {
   "metadata": {
    "trusted": true,
    "_uuid": "7017e814e6ec0ce86f6b15278254aa77a4781b09",
    "pycharm": {
     "is_executing": false
    }
   },
   "cell_type": "code",
   "source": "",
   "execution_count": null,
   "outputs": []
  }
 ],
 "metadata": {
  "kernelspec": {
   "display_name": "Python 3",
   "language": "python",
   "name": "python3"
  },
  "language_info": {
   "name": "python",
   "version": "3.6.6",
   "mimetype": "text/x-python",
   "codemirror_mode": {
    "name": "ipython",
    "version": 3
   },
   "pygments_lexer": "ipython3",
   "nbconvert_exporter": "python",
   "file_extension": ".py"
  },
  "pycharm": {
   "stem_cell": {
    "cell_type": "raw",
    "source": [],
    "metadata": {
     "collapsed": false
    }
   }
  }
 },
 "nbformat": 4,
 "nbformat_minor": 1
}